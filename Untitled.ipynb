{
 "cells": [
  {
   "cell_type": "code",
   "execution_count": 32,
   "id": "e69a0634",
   "metadata": {},
   "outputs": [],
   "source": [
    "from abc import ABC, abstractmethod\n",
    "\n",
    "\n",
    "class Card:\n",
    "    def __init__(self):\n",
    "        self.state = ActiveCard()\n",
    "\n",
    "    def setState(self, state):\n",
    "        self.state = state\n",
    "\n",
    "    def status(self):\n",
    "        return self.state.status()\n",
    "\n",
    "    def change(self):\n",
    "        self.state.change_state(self)\n",
    "    \n",
    "\n",
    "\n",
    "class State(ABC):\n",
    "    @abstractmethod\n",
    "    def status(self):\n",
    "        pass\n",
    "\n",
    "    @abstractmethod\n",
    "    def change_state(self, card_state: Card):\n",
    "        pass\n",
    "\n",
    "\n",
    "\n",
    "class ActiveCard(State):\n",
    "    def status(self):\n",
    "        return \"Active\"\n",
    "\n",
    "    def change_state(self, card_state: Card):\n",
    "        card_state.setState(InactiveCard())\n",
    "\n",
    "\n",
    "class InactiveCard(State):\n",
    "    def status(self):\n",
    "        return \"Inactive\"\n",
    "\n",
    "    def change_state(self ,card_state: Card):\n",
    "        card_state.setState(ActiveCard())"
   ]
  },
  {
   "cell_type": "code",
   "execution_count": 34,
   "id": "65b44813",
   "metadata": {},
   "outputs": [
    {
     "ename": "AttributeError",
     "evalue": "'ellipsis' object has no attribute 'state'",
     "output_type": "error",
     "traceback": [
      "\u001b[0;31m---------------------------------------------------------------------------\u001b[0m",
      "\u001b[0;31mAttributeError\u001b[0m                            Traceback (most recent call last)",
      "Input \u001b[0;32mIn [34]\u001b[0m, in \u001b[0;36m<cell line: 1>\u001b[0;34m()\u001b[0m\n\u001b[0;32m----> 1\u001b[0m card \u001b[38;5;241m=\u001b[39m \u001b[43mCard\u001b[49m\u001b[38;5;241;43m.\u001b[39;49m\u001b[43msetState\u001b[49m\u001b[43m(\u001b[49m\u001b[38;5;241;43m.\u001b[39;49m\u001b[38;5;241;43m.\u001b[39;49m\u001b[38;5;241;43m.\u001b[39;49m\u001b[43m,\u001b[49m\u001b[38;5;124;43m\"\u001b[39;49m\u001b[38;5;124;43mActive\u001b[39;49m\u001b[38;5;124;43m\"\u001b[39;49m\u001b[43m)\u001b[49m\n",
      "Input \u001b[0;32mIn [32]\u001b[0m, in \u001b[0;36mCard.setState\u001b[0;34m(self, state)\u001b[0m\n\u001b[1;32m      8\u001b[0m \u001b[38;5;28;01mdef\u001b[39;00m \u001b[38;5;21msetState\u001b[39m(\u001b[38;5;28mself\u001b[39m, state):\n\u001b[0;32m----> 9\u001b[0m     \u001b[38;5;28mself\u001b[39m\u001b[38;5;241m.\u001b[39mstate \u001b[38;5;241m=\u001b[39m state\n",
      "\u001b[0;31mAttributeError\u001b[0m: 'ellipsis' object has no attribute 'state'"
     ]
    }
   ],
   "source": [
    "card = Card.setState(...,\"Active\")"
   ]
  },
  {
   "cell_type": "code",
   "execution_count": 11,
   "id": "96a4d240",
   "metadata": {},
   "outputs": [],
   "source": [
    "card = Card()"
   ]
  },
  {
   "cell_type": "code",
   "execution_count": 30,
   "id": "a5c8a295",
   "metadata": {},
   "outputs": [
    {
     "ename": "AttributeError",
     "evalue": "'NoneType' object has no attribute 'status'",
     "output_type": "error",
     "traceback": [
      "\u001b[0;31m---------------------------------------------------------------------------\u001b[0m",
      "\u001b[0;31mAttributeError\u001b[0m                            Traceback (most recent call last)",
      "Input \u001b[0;32mIn [30]\u001b[0m, in \u001b[0;36m<cell line: 1>\u001b[0;34m()\u001b[0m\n\u001b[0;32m----> 1\u001b[0m \u001b[43mcard\u001b[49m\u001b[38;5;241;43m.\u001b[39;49m\u001b[43mstatus\u001b[49m()\n",
      "\u001b[0;31mAttributeError\u001b[0m: 'NoneType' object has no attribute 'status'"
     ]
    }
   ],
   "source": [
    "card.status()"
   ]
  },
  {
   "cell_type": "code",
   "execution_count": 26,
   "id": "8a8ac2bc",
   "metadata": {},
   "outputs": [],
   "source": [
    "card.change()"
   ]
  },
  {
   "cell_type": "raw",
   "id": "7bdf72c8",
   "metadata": {},
   "source": [
    "card.status()"
   ]
  },
  {
   "cell_type": "code",
   "execution_count": null,
   "id": "6c949c15",
   "metadata": {},
   "outputs": [],
   "source": []
  }
 ],
 "metadata": {
  "kernelspec": {
   "display_name": "Python 3 (ipykernel)",
   "language": "python",
   "name": "python3"
  },
  "language_info": {
   "codemirror_mode": {
    "name": "ipython",
    "version": 3
   },
   "file_extension": ".py",
   "mimetype": "text/x-python",
   "name": "python",
   "nbconvert_exporter": "python",
   "pygments_lexer": "ipython3",
   "version": "3.9.13"
  }
 },
 "nbformat": 4,
 "nbformat_minor": 5
}
